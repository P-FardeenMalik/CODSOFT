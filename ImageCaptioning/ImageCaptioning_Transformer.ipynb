{
 "cells": [
  {
   "cell_type": "code",
   "execution_count": 1,
   "id": "a1d590a6-2585-4dd9-a409-3336487d9320",
   "metadata": {},
   "outputs": [],
   "source": [
    "!pip -q install kaggle"
   ]
  },
  {
   "cell_type": "code",
   "execution_count": null,
   "id": "1b050b52-723c-430d-81c8-e50d42a1dcf1",
   "metadata": {},
   "outputs": [],
   "source": []
  }
 ],
 "metadata": {
  "kernelspec": {
   "display_name": "Python 3 (ipykernel)",
   "language": "python",
   "name": "python3"
  },
  "language_info": {
   "codemirror_mode": {
    "name": "ipython",
    "version": 3
   },
   "file_extension": ".py",
   "mimetype": "text/x-python",
   "name": "python",
   "nbconvert_exporter": "python",
   "pygments_lexer": "ipython3",
   "version": "3.12.3"
  }
 },
 "nbformat": 4,
 "nbformat_minor": 5
}
